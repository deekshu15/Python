{
  "nbformat": 4,
  "nbformat_minor": 0,
  "metadata": {
    "colab": {
      "provenance": [],
      "authorship_tag": "ABX9TyNgc7o7YoF4sctughYx1Wiu",
      "include_colab_link": true
    },
    "kernelspec": {
      "name": "python3",
      "display_name": "Python 3"
    },
    "language_info": {
      "name": "python"
    }
  },
  "cells": [
    {
      "cell_type": "markdown",
      "metadata": {
        "id": "view-in-github",
        "colab_type": "text"
      },
      "source": [
        "<a href=\"https://colab.research.google.com/github/deekshu15/Python/blob/main/basic_data_types.ipynb\" target=\"_parent\"><img src=\"https://colab.research.google.com/assets/colab-badge.svg\" alt=\"Open In Colab\"/></a>"
      ]
    },
    {
      "cell_type": "code",
      "execution_count": 1,
      "metadata": {
        "colab": {
          "base_uri": "https://localhost:8080/"
        },
        "id": "qm7Avw6V3zhR",
        "outputId": "5cf205ba-548a-4a40-e5da-1b7d06ce3617"
      },
      "outputs": [
        {
          "output_type": "stream",
          "name": "stdout",
          "text": [
            "45\n",
            "45 <class 'int'>\n"
          ]
        }
      ],
      "source": [
        "a=int(input())\n",
        "print(a,type(a))                                                 #int type"
      ]
    },
    {
      "cell_type": "code",
      "source": [
        "a=9.8\n",
        "b=5\n",
        "print(a+b,type(a+b))                                            #float type"
      ],
      "metadata": {
        "colab": {
          "base_uri": "https://localhost:8080/"
        },
        "id": "7jxfc3Jf4V4k",
        "outputId": "eb4c4497-187d-4472-df48-727a7b3687a6"
      },
      "execution_count": 2,
      "outputs": [
        {
          "output_type": "stream",
          "name": "stdout",
          "text": [
            "14.8 <class 'float'>\n"
          ]
        }
      ]
    },
    {
      "cell_type": "code",
      "source": [
        "a=3+8j\n",
        "b=3.5\n",
        "print(a+b,type(a+b))                                            #complex type"
      ],
      "metadata": {
        "colab": {
          "base_uri": "https://localhost:8080/"
        },
        "id": "8JdSILCt4fNr",
        "outputId": "685a2cab-19e3-4306-b7bb-cbc58e62174f"
      },
      "execution_count": 3,
      "outputs": [
        {
          "output_type": "stream",
          "name": "stdout",
          "text": [
            "(6.5+8j) <class 'complex'>\n"
          ]
        }
      ]
    },
    {
      "cell_type": "code",
      "source": [
        "a=True\n",
        "print(a,type(a))                                                #bool type"
      ],
      "metadata": {
        "colab": {
          "base_uri": "https://localhost:8080/"
        },
        "id": "of5OA-a44gYr",
        "outputId": "9424dd0c-d0d5-4235-923d-28b58e5d42b8"
      },
      "execution_count": 4,
      "outputs": [
        {
          "output_type": "stream",
          "name": "stdout",
          "text": [
            "True <class 'bool'>\n"
          ]
        }
      ]
    },
    {
      "cell_type": "code",
      "source": [
        "a=\"sandee\"\n",
        "print(a,type(a))                                                #string type"
      ],
      "metadata": {
        "colab": {
          "base_uri": "https://localhost:8080/"
        },
        "id": "P-t27Q9M4lwG",
        "outputId": "33220c2d-1bb1-4fdb-f972-43aa50bd3ceb"
      },
      "execution_count": 5,
      "outputs": [
        {
          "output_type": "stream",
          "name": "stdout",
          "text": [
            "sandee <class 'str'>\n"
          ]
        }
      ]
    },
    {
      "cell_type": "code",
      "source": [
        "a=[\"rose\",\"lilly\",\"jasmine\"]\n",
        "print(a,type(a))                                                #list type"
      ],
      "metadata": {
        "colab": {
          "base_uri": "https://localhost:8080/"
        },
        "id": "puCnw_rr4nPq",
        "outputId": "37dd9305-26bf-40d7-f79c-7be707c0a316"
      },
      "execution_count": 6,
      "outputs": [
        {
          "output_type": "stream",
          "name": "stdout",
          "text": [
            "['rose', 'lilly', 'jasmine'] <class 'list'>\n"
          ]
        }
      ]
    },
    {
      "cell_type": "code",
      "source": [
        "a=(\"apple\",\"banana\",\"cake\")\n",
        "print(a,type(a))                                                #tuple type"
      ],
      "metadata": {
        "colab": {
          "base_uri": "https://localhost:8080/"
        },
        "id": "NmB2rxJb4new",
        "outputId": "bce80b3d-4543-46f9-ac68-8babf6d99149"
      },
      "execution_count": 7,
      "outputs": [
        {
          "output_type": "stream",
          "name": "stdout",
          "text": [
            "('apple', 'banana', 'cake') <class 'tuple'>\n"
          ]
        }
      ]
    },
    {
      "cell_type": "code",
      "source": [
        "a=range(6)\n",
        "print(a,type(a))                                                #range type"
      ],
      "metadata": {
        "colab": {
          "base_uri": "https://localhost:8080/"
        },
        "id": "-zVlNIiF4w57",
        "outputId": "a4a5a757-6f4b-497a-a1cc-aa5ccca30432"
      },
      "execution_count": 8,
      "outputs": [
        {
          "output_type": "stream",
          "name": "stdout",
          "text": [
            "range(0, 6) <class 'range'>\n"
          ]
        }
      ]
    },
    {
      "cell_type": "code",
      "source": [
        "a={\"priya\":\"19\",\"tharun\":\"20\"}\n",
        "print(a,type(a))                                                #dict type"
      ],
      "metadata": {
        "colab": {
          "base_uri": "https://localhost:8080/"
        },
        "id": "32AZag4B4w9e",
        "outputId": "e8b37a27-3659-4065-dd71-ec601e6c6bb3"
      },
      "execution_count": 9,
      "outputs": [
        {
          "output_type": "stream",
          "name": "stdout",
          "text": [
            "{'priya': '19', 'tharun': '20'} <class 'dict'>\n"
          ]
        }
      ]
    },
    {
      "cell_type": "code",
      "source": [
        "a={\"sravya\",\"rajitha\",\"priya\",\"deekshu\"}\n",
        "print(a,type(a))                                                #set type"
      ],
      "metadata": {
        "colab": {
          "base_uri": "https://localhost:8080/"
        },
        "id": "SnOKO4t-4xDN",
        "outputId": "a85b2e38-b952-4301-c8f7-08ab6dafbcb8"
      },
      "execution_count": 10,
      "outputs": [
        {
          "output_type": "stream",
          "name": "stdout",
          "text": [
            "{'deekshu', 'priya', 'rajitha', 'sravya'} <class 'set'>\n"
          ]
        }
      ]
    },
    {
      "cell_type": "code",
      "source": [
        "a=frozenset({\"car\",\"bike\",\"cycle\"})\n",
        "print(a,type(a))                                                #frozen set type"
      ],
      "metadata": {
        "colab": {
          "base_uri": "https://localhost:8080/"
        },
        "id": "Pfdc2ZYO4xGl",
        "outputId": "a1e427ea-5a7e-4117-e1c8-49f408847790"
      },
      "execution_count": 11,
      "outputs": [
        {
          "output_type": "stream",
          "name": "stdout",
          "text": [
            "frozenset({'bike', 'cycle', 'car'}) <class 'frozenset'>\n"
          ]
        }
      ]
    },
    {
      "cell_type": "code",
      "source": [
        "a=b\"deekshu\"\n",
        "print(a,type(a))                                                 #bytes type"
      ],
      "metadata": {
        "colab": {
          "base_uri": "https://localhost:8080/"
        },
        "id": "gpQ-cDil46mq",
        "outputId": "be02256d-c3f9-4773-fe97-8f20269521d1"
      },
      "execution_count": 12,
      "outputs": [
        {
          "output_type": "stream",
          "name": "stdout",
          "text": [
            "b'deekshu' <class 'bytes'>\n"
          ]
        }
      ]
    },
    {
      "cell_type": "code",
      "source": [
        "a=bytearray(5)\n",
        "print(a,type(a))                                                 #bytearray type"
      ],
      "metadata": {
        "colab": {
          "base_uri": "https://localhost:8080/"
        },
        "id": "Dl-uo-Yy49lD",
        "outputId": "6432d42d-4501-4421-a3aa-33ee106e44a3"
      },
      "execution_count": 13,
      "outputs": [
        {
          "output_type": "stream",
          "name": "stdout",
          "text": [
            "bytearray(b'\\x00\\x00\\x00\\x00\\x00') <class 'bytearray'>\n"
          ]
        }
      ]
    },
    {
      "cell_type": "code",
      "source": [
        "a=None\n",
        "print(a,type(a))                                                 #none type"
      ],
      "metadata": {
        "colab": {
          "base_uri": "https://localhost:8080/"
        },
        "id": "CxpfA3tI46vM",
        "outputId": "f715cb2e-7398-4902-cb46-db8907d954dd"
      },
      "execution_count": 14,
      "outputs": [
        {
          "output_type": "stream",
          "name": "stdout",
          "text": [
            "None <class 'NoneType'>\n"
          ]
        }
      ]
    }
  ]
}