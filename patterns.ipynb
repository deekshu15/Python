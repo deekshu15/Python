{
  "cells": [
    {
      "cell_type": "markdown",
      "metadata": {
        "id": "view-in-github",
        "colab_type": "text"
      },
      "source": [
        "<a href=\"https://colab.research.google.com/github/deekshu15/Python/blob/main/patterns.ipynb\" target=\"_parent\"><img src=\"https://colab.research.google.com/assets/colab-badge.svg\" alt=\"Open In Colab\"/></a>"
      ]
    },
    {
      "cell_type": "code",
      "execution_count": null,
      "metadata": {
        "colab": {
          "base_uri": "https://localhost:8080/"
        },
        "id": "Oma9EwY8KUso",
        "outputId": "eaf852e5-7996-4b7d-be83-ae6c6b44b492"
      },
      "outputs": [
        {
          "name": "stdout",
          "output_type": "stream",
          "text": [
            "6\n",
            "******\n",
            "******\n",
            "******\n",
            "******\n",
            "******\n",
            "******\n"
          ]
        }
      ],
      "source": [
        "n=int(input())\n",
        "for x in range(n):\n",
        "  for y in range(n):\n",
        "    print(\"*\",end=\"\")\n",
        "  print()"
      ]
    },
    {
      "cell_type": "code",
      "execution_count": null,
      "metadata": {
        "colab": {
          "base_uri": "https://localhost:8080/"
        },
        "id": "ZQVDQzpRtr1I",
        "outputId": "d248546d-22a3-4436-96fc-7a1a30e1233d"
      },
      "outputs": [
        {
          "name": "stdout",
          "output_type": "stream",
          "text": [
            "*****\n",
            "*****\n",
            "*****\n",
            "*****\n",
            "*****\n"
          ]
        }
      ],
      "source": [
        "for x in range(1,6):\n",
        "  for y in range(1,6):\n",
        "    print(\"*\",end=\"\")\n",
        "  print()"
      ]
    },
    {
      "cell_type": "code",
      "execution_count": null,
      "metadata": {
        "colab": {
          "base_uri": "https://localhost:8080/"
        },
        "id": "z6Pa1jZKLXfq",
        "outputId": "f74f545f-089a-441e-9a61-94be224b59be"
      },
      "outputs": [
        {
          "name": "stdout",
          "output_type": "stream",
          "text": [
            "*\n",
            "**\n",
            "***\n",
            "****\n"
          ]
        }
      ],
      "source": [
        "for i in range(1,5):\n",
        "  for j in range(1,i+1):\n",
        "    print(\"*\",end=\"\")\n",
        "  print()"
      ]
    },
    {
      "cell_type": "code",
      "execution_count": null,
      "metadata": {
        "colab": {
          "base_uri": "https://localhost:8080/"
        },
        "id": "nS5wFe7HtpgY",
        "outputId": "33ae357b-64cf-480b-d1ae-acd91f2ac631"
      },
      "outputs": [
        {
          "name": "stdout",
          "output_type": "stream",
          "text": [
            "****\n",
            "***\n",
            "**\n",
            "*\n"
          ]
        }
      ],
      "source": [
        "for i in range(1,5):\n",
        "  for j in range(5,i,-1):\n",
        "    print(\"*\",end=\"\")\n",
        "  print()"
      ]
    },
    {
      "cell_type": "code",
      "execution_count": null,
      "metadata": {
        "colab": {
          "base_uri": "https://localhost:8080/"
        },
        "id": "Xrxd5bCitsBl",
        "outputId": "289bfe08-d636-435b-917c-5659d555312d"
      },
      "outputs": [
        {
          "name": "stdout",
          "output_type": "stream",
          "text": [
            "12345\n",
            "12345\n",
            "12345\n",
            "12345\n",
            "12345\n"
          ]
        }
      ],
      "source": [
        "for x in range(1,6):\n",
        "  for y in range(1,6):\n",
        "    print(y,end=\"\")\n",
        "  print()"
      ]
    },
    {
      "cell_type": "code",
      "execution_count": null,
      "metadata": {
        "colab": {
          "base_uri": "https://localhost:8080/"
        },
        "id": "YP9E4bfduVQg",
        "outputId": "99b4c5d3-dbff-4960-831b-740e9d023af4"
      },
      "outputs": [
        {
          "name": "stdout",
          "output_type": "stream",
          "text": [
            "11111\n",
            "22222\n",
            "33333\n",
            "44444\n",
            "55555\n"
          ]
        }
      ],
      "source": [
        "for x in range(1,6):\n",
        "  for y in range(1,6):\n",
        "    print(x,end=\"\")\n",
        "  print()"
      ]
    },
    {
      "cell_type": "code",
      "execution_count": null,
      "metadata": {
        "colab": {
          "base_uri": "https://localhost:8080/"
        },
        "id": "Nblk7QvNtpsA",
        "outputId": "17067527-c3cf-4355-dc16-361b3386d1a6"
      },
      "outputs": [
        {
          "name": "stdout",
          "output_type": "stream",
          "text": [
            "*\n",
            "**\n",
            "***\n"
          ]
        }
      ],
      "source": [
        "for i in range(1,4):\n",
        "  for j in range(3,i-1):\n",
        "    print(\"\",end=\"\")\n",
        "  for k in range(0,i):\n",
        "    print(\"*\",end=\"\")\n",
        "  print()"
      ]
    },
    {
      "cell_type": "code",
      "execution_count": null,
      "metadata": {
        "colab": {
          "base_uri": "https://localhost:8080/"
        },
        "id": "e6yJlUA7KvGr",
        "outputId": "32598c81-0e67-4527-a9a0-07a05feef9c2"
      },
      "outputs": [
        {
          "name": "stdout",
          "output_type": "stream",
          "text": [
            "5\n",
            "0123\n",
            "0123\n",
            "0123\n",
            "0123\n",
            "0123\n"
          ]
        }
      ],
      "source": [
        "n = int(input())\n",
        "for i in range(n):\n",
        "  for j in range(n-1):\n",
        "    print(j,end=\"\")\n",
        "  print()"
      ]
    },
    {
      "cell_type": "code",
      "execution_count": null,
      "metadata": {
        "colab": {
          "base_uri": "https://localhost:8080/"
        },
        "id": "_wfM7SF1s433",
        "outputId": "cac21454-1182-414c-f7e4-54f4267af1c5"
      },
      "outputs": [
        {
          "name": "stdout",
          "output_type": "stream",
          "text": [
            "1\n",
            "12\n",
            "123\n",
            "1234\n"
          ]
        }
      ],
      "source": [
        "for i in range(1,5):\n",
        "  for j in range(1,i+1):\n",
        "    print(j,end=\"\")\n",
        "  print()"
      ]
    },
    {
      "cell_type": "code",
      "execution_count": null,
      "metadata": {
        "colab": {
          "base_uri": "https://localhost:8080/"
        },
        "id": "e2lgA2KKsyua",
        "outputId": "f36a8154-1119-4e44-93dc-5317ff68d864"
      },
      "outputs": [
        {
          "name": "stdout",
          "output_type": "stream",
          "text": [
            "A\n",
            "AB\n",
            "ABC\n",
            "ABCD\n"
          ]
        }
      ],
      "source": [
        "for i in range(65,69):\n",
        "  for j in range(65,i+1):\n",
        "    print(chr(j),end=\"\")\n",
        "  print()"
      ]
    },
    {
      "cell_type": "code",
      "execution_count": null,
      "metadata": {
        "colab": {
          "base_uri": "https://localhost:8080/"
        },
        "id": "lPBIGKIjUWiS",
        "outputId": "32b2e52a-2351-4f20-bc4e-ebb6b4236e65"
      },
      "outputs": [
        {
          "name": "stdout",
          "output_type": "stream",
          "text": [
            "A\n",
            "BB\n",
            "CCC\n",
            "DDDD\n"
          ]
        }
      ],
      "source": [
        "for i in range(65,69):\n",
        "  for j in range(65,i+1):\n",
        "    print(chr(i),end=\"\")\n",
        "  print()"
      ]
    },
    {
      "cell_type": "code",
      "execution_count": null,
      "metadata": {
        "colab": {
          "base_uri": "https://localhost:8080/"
        },
        "id": "EHfAvwh9UrTJ",
        "outputId": "baf9f9d7-155a-4294-87bc-38e10519af64"
      },
      "outputs": [
        {
          "name": "stdout",
          "output_type": "stream",
          "text": [
            "6\n",
            "\n",
            "1\n",
            "22\n",
            "333\n",
            "4444\n",
            "55555\n",
            "666666\n"
          ]
        }
      ],
      "source": [
        "n=int(input())\n",
        "for i in range(0,n+1):\n",
        "  for j in range(0,i):\n",
        "    print(i,end=\"\")\n",
        "  print()"
      ]
    }
  ],
  "metadata": {
    "colab": {
      "provenance": [],
      "authorship_tag": "ABX9TyNRoKy93HEZ7G8YVUX8SSDc",
      "include_colab_link": true
    },
    "kernelspec": {
      "display_name": "Python 3",
      "name": "python3"
    },
    "language_info": {
      "name": "python"
    }
  },
  "nbformat": 4,
  "nbformat_minor": 0
}