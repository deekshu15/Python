{
  "nbformat": 4,
  "nbformat_minor": 0,
  "metadata": {
    "colab": {
      "provenance": [],
      "authorship_tag": "ABX9TyNkuBukJuGOXa/kHN25pfoH",
      "include_colab_link": true
    },
    "kernelspec": {
      "name": "python3",
      "display_name": "Python 3"
    },
    "language_info": {
      "name": "python"
    }
  },
  "cells": [
    {
      "cell_type": "markdown",
      "metadata": {
        "id": "view-in-github",
        "colab_type": "text"
      },
      "source": [
        "<a href=\"https://colab.research.google.com/github/deekshu15/Python/blob/main/string_methods.ipynb\" target=\"_parent\"><img src=\"https://colab.research.google.com/assets/colab-badge.svg\" alt=\"Open In Colab\"/></a>"
      ]
    },
    {
      "cell_type": "code",
      "execution_count": null,
      "metadata": {
        "id": "oJgTr4fVlqJz",
        "colab": {
          "base_uri": "https://localhost:8080/"
        },
        "outputId": "d607920c-4953-4a7d-8c51-4152bcaf81df"
      },
      "outputs": [
        {
          "output_type": "stream",
          "name": "stdout",
          "text": [
            "Nature is beautiful\n"
          ]
        }
      ],
      "source": [
        "mylist=\"nature is beautiful\"\n",
        "x=mylist.capitalize()\n",
        "print(x)                                  #capitalize"
      ]
    },
    {
      "cell_type": "code",
      "source": [
        "mylist=\"Nature is Beautiful\"\n",
        "x=mylist.casefold()\n",
        "print(x)                                  #casefold"
      ],
      "metadata": {
        "colab": {
          "base_uri": "https://localhost:8080/"
        },
        "id": "N-TqLyRUlME7",
        "outputId": "7d563cea-11a6-4d78-ec7d-cdd68b943bc9"
      },
      "execution_count": null,
      "outputs": [
        {
          "output_type": "stream",
          "name": "stdout",
          "text": [
            "nature is beautiful\n"
          ]
        }
      ]
    },
    {
      "cell_type": "code",
      "source": [
        "mylist=\"nature is beautiful\"\n",
        "x=mylist.center(50)\n",
        "print(x)                                  #center"
      ],
      "metadata": {
        "colab": {
          "base_uri": "https://localhost:8080/"
        },
        "id": "Q5P_Mx3dm9AF",
        "outputId": "d4819040-41f1-4452-b77d-e8edf5bb9024"
      },
      "execution_count": null,
      "outputs": [
        {
          "output_type": "stream",
          "name": "stdout",
          "text": [
            "               nature is beautiful                \n"
          ]
        }
      ]
    },
    {
      "cell_type": "code",
      "source": [
        "x=mylist.count(\"e\")\n",
        "print(x)                                  #count"
      ],
      "metadata": {
        "colab": {
          "base_uri": "https://localhost:8080/"
        },
        "id": "ur4kUD7vm9Dq",
        "outputId": "61ac83f7-0b8a-4a39-eb3e-c79ea073743e"
      },
      "execution_count": null,
      "outputs": [
        {
          "output_type": "stream",
          "name": "stdout",
          "text": [
            "2\n"
          ]
        }
      ]
    },
    {
      "cell_type": "code",
      "source": [
        "mylist=\"nature is beautiful\"\n",
        "x=mylist.encode()\n",
        "print(x)                                  #encode"
      ],
      "metadata": {
        "colab": {
          "base_uri": "https://localhost:8080/"
        },
        "id": "xAGq1Bpjm9G1",
        "outputId": "d26f8abe-a1ac-4d50-c176-4742f404a3d0"
      },
      "execution_count": null,
      "outputs": [
        {
          "output_type": "stream",
          "name": "stdout",
          "text": [
            "b'nature is beautiful'\n"
          ]
        }
      ]
    },
    {
      "cell_type": "code",
      "source": [
        "mylist=\"nature is beautiful\"\n",
        "x=mylist.endswith(\".\")\n",
        "print(x)                                  #endswith"
      ],
      "metadata": {
        "colab": {
          "base_uri": "https://localhost:8080/"
        },
        "id": "4my2rxjWm9Jd",
        "outputId": "c9bfa3da-b1c0-461d-f16f-97637b37f38a"
      },
      "execution_count": null,
      "outputs": [
        {
          "output_type": "stream",
          "name": "stdout",
          "text": [
            "False\n"
          ]
        }
      ]
    },
    {
      "cell_type": "code",
      "source": [
        "mylist=\"nature\\tis\\tbeautiful\"\n",
        "x=mylist.expandtabs(7)\n",
        "print(x)                                  #expandtabs"
      ],
      "metadata": {
        "colab": {
          "base_uri": "https://localhost:8080/"
        },
        "id": "YLKXTBfJm9Mo",
        "outputId": "1a7a9f7c-7e8c-405b-959f-e1091e0def03"
      },
      "execution_count": null,
      "outputs": [
        {
          "output_type": "stream",
          "name": "stdout",
          "text": [
            "nature is     beautiful\n"
          ]
        }
      ]
    },
    {
      "cell_type": "code",
      "source": [
        "mylist=\"nature is beautiful\"\n",
        "x=mylist.find(\"is\")\n",
        "print(x)                                  #find"
      ],
      "metadata": {
        "colab": {
          "base_uri": "https://localhost:8080/"
        },
        "id": "5M5MZ2u1m9Pe",
        "outputId": "e65e60f7-2e4d-4379-cf21-a44fa0048c18"
      },
      "execution_count": null,
      "outputs": [
        {
          "output_type": "stream",
          "name": "stdout",
          "text": [
            "7\n"
          ]
        }
      ]
    },
    {
      "cell_type": "code",
      "source": [
        "name = \"John\"\n",
        "age = 30\n",
        "formatted_string = \"My name is {} and I'm {} years old.\".format(name, age)\n",
        "print(formatted_string)                                                              #format"
      ],
      "metadata": {
        "colab": {
          "base_uri": "https://localhost:8080/"
        },
        "id": "050WLqbvm9WR",
        "outputId": "050349f0-953f-4044-e1c0-9b52d8d621e2"
      },
      "execution_count": null,
      "outputs": [
        {
          "output_type": "stream",
          "name": "stdout",
          "text": [
            "My name is John and I'm 30 years old.\n"
          ]
        }
      ]
    },
    {
      "cell_type": "code",
      "source": [
        "mylist=\"nature is beautiful\"\n",
        "x=mylist.index(\"b\")\n",
        "print(x)                                  #index"
      ],
      "metadata": {
        "colab": {
          "base_uri": "https://localhost:8080/"
        },
        "id": "CnILMWizm9ZF",
        "outputId": "368f4325-d1b3-460f-ed20-6cea5a461ab7"
      },
      "execution_count": null,
      "outputs": [
        {
          "output_type": "stream",
          "name": "stdout",
          "text": [
            "10\n"
          ]
        }
      ]
    },
    {
      "cell_type": "code",
      "source": [
        "mylist=\"nature is beautiful\"\n",
        "x=mylist.isalnum()\n",
        "print(x)                                  #isalnum"
      ],
      "metadata": {
        "colab": {
          "base_uri": "https://localhost:8080/"
        },
        "id": "wuNQgSgGm9cc",
        "outputId": "733c2ab8-c705-47aa-a572-797fa8c40a47"
      },
      "execution_count": null,
      "outputs": [
        {
          "output_type": "stream",
          "name": "stdout",
          "text": [
            "False\n"
          ]
        }
      ]
    },
    {
      "cell_type": "code",
      "source": [
        "mylist=\"nature is beautiful\"\n",
        "x=mylist.isalpha()\n",
        "print(x)                                  #isalpha"
      ],
      "metadata": {
        "colab": {
          "base_uri": "https://localhost:8080/"
        },
        "id": "dKQeaOmTqUay",
        "outputId": "247a1a41-df52-4834-b0ec-ddccc523abb1"
      },
      "execution_count": null,
      "outputs": [
        {
          "output_type": "stream",
          "name": "stdout",
          "text": [
            "False\n"
          ]
        }
      ]
    },
    {
      "cell_type": "code",
      "source": [
        "mylist=\"45678\"\n",
        "x=mylist.isdecimal()\n",
        "print(x)                                  #isdecimal"
      ],
      "metadata": {
        "colab": {
          "base_uri": "https://localhost:8080/"
        },
        "id": "EO0090pHqUgk",
        "outputId": "ce72bf24-61d8-4279-d4bb-421a5eb38164"
      },
      "execution_count": null,
      "outputs": [
        {
          "output_type": "stream",
          "name": "stdout",
          "text": [
            "True\n"
          ]
        }
      ]
    },
    {
      "cell_type": "code",
      "source": [
        "mylist=\"nature345\"\n",
        "x=mylist.isdigit()\n",
        "print(x)                                  #isdigit"
      ],
      "metadata": {
        "colab": {
          "base_uri": "https://localhost:8080/"
        },
        "id": "3dOHpDdRqUjZ",
        "outputId": "f5951905-bf4e-4968-c9fc-a0881a2da8d9"
      },
      "execution_count": null,
      "outputs": [
        {
          "output_type": "stream",
          "name": "stdout",
          "text": [
            "False\n"
          ]
        }
      ]
    },
    {
      "cell_type": "code",
      "source": [
        "mylist=\"nature is beautiful\"\n",
        "x=mylist.isidentifier()\n",
        "print(x)                                  #isidentifier"
      ],
      "metadata": {
        "colab": {
          "base_uri": "https://localhost:8080/"
        },
        "id": "UBb8Wxo-qUmb",
        "outputId": "8baeaac9-ff2c-4156-9e0d-701400c93e9d"
      },
      "execution_count": null,
      "outputs": [
        {
          "output_type": "stream",
          "name": "stdout",
          "text": [
            "False\n"
          ]
        }
      ]
    },
    {
      "cell_type": "code",
      "source": [
        "mylist=\"NATURE IS BEAUTIFUL\"\n",
        "x=mylist.islower()\n",
        "print(x)                                  #islower"
      ],
      "metadata": {
        "colab": {
          "base_uri": "https://localhost:8080/"
        },
        "id": "U21fAjEvqUo8",
        "outputId": "e2b4835a-8dd1-4fe5-e327-75af8814a6d7"
      },
      "execution_count": null,
      "outputs": [
        {
          "output_type": "stream",
          "name": "stdout",
          "text": [
            "False\n"
          ]
        }
      ]
    },
    {
      "cell_type": "code",
      "source": [
        "mylist=\"beautiful678\"\n",
        "x=mylist.isnumeric()\n",
        "print(x)                                  #isnumeric"
      ],
      "metadata": {
        "colab": {
          "base_uri": "https://localhost:8080/"
        },
        "id": "aJby4yFRqUsN",
        "outputId": "516f6b78-2fe6-4007-d44d-5c33ffb73310"
      },
      "execution_count": null,
      "outputs": [
        {
          "output_type": "stream",
          "name": "stdout",
          "text": [
            "False\n"
          ]
        }
      ]
    },
    {
      "cell_type": "code",
      "source": [
        "mylist=\"nature is beautiful\"\n",
        "x=mylist.isprintable()\n",
        "print(x)                                  #isprintable"
      ],
      "metadata": {
        "colab": {
          "base_uri": "https://localhost:8080/"
        },
        "id": "l1nZ0Ch7qUvi",
        "outputId": "9d98a0cb-babf-4b06-dc4a-1048769c79a9"
      },
      "execution_count": null,
      "outputs": [
        {
          "output_type": "stream",
          "name": "stdout",
          "text": [
            "True\n"
          ]
        }
      ]
    },
    {
      "cell_type": "code",
      "source": [
        "mylist=\" \"\n",
        "x=mylist.isspace()\n",
        "print(x)                                  #isspace"
      ],
      "metadata": {
        "colab": {
          "base_uri": "https://localhost:8080/"
        },
        "id": "ajVfJUy8rFVe",
        "outputId": "116e7758-4053-43ce-97a0-420bcc8a4dca"
      },
      "execution_count": null,
      "outputs": [
        {
          "output_type": "stream",
          "name": "stdout",
          "text": [
            "True\n"
          ]
        }
      ]
    },
    {
      "cell_type": "code",
      "source": [
        "mylist=\"Nature is Beautiful\"\n",
        "x=mylist.istitle()\n",
        "print(x)                                  #istitle"
      ],
      "metadata": {
        "colab": {
          "base_uri": "https://localhost:8080/"
        },
        "id": "NT03rSXxrFY3",
        "outputId": "c710bbac-92a1-4080-9098-c9d41d15e18e"
      },
      "execution_count": null,
      "outputs": [
        {
          "output_type": "stream",
          "name": "stdout",
          "text": [
            "False\n"
          ]
        }
      ]
    },
    {
      "cell_type": "code",
      "source": [
        "mylist=\"NATURE IS BEAUTIFUL\"\n",
        "x=mylist.isupper()\n",
        "print(x)                                  #isupper"
      ],
      "metadata": {
        "colab": {
          "base_uri": "https://localhost:8080/"
        },
        "id": "9RfM6UBorFeV",
        "outputId": "5a5eb2b2-ec1d-48f2-bf2e-103c749a4f61"
      },
      "execution_count": null,
      "outputs": [
        {
          "output_type": "stream",
          "name": "stdout",
          "text": [
            "True\n"
          ]
        }
      ]
    },
    {
      "cell_type": "code",
      "source": [
        "mylist=\"nature is beautiful\"\n",
        "x=\"*\".join(mylist)\n",
        "print(x)                                  #join"
      ],
      "metadata": {
        "colab": {
          "base_uri": "https://localhost:8080/"
        },
        "id": "C6f2cwLgrFhy",
        "outputId": "66023b93-d303-42cd-b0b3-33717d621f01"
      },
      "execution_count": null,
      "outputs": [
        {
          "output_type": "stream",
          "name": "stdout",
          "text": [
            "n*a*t*u*r*e* *i*s* *b*e*a*u*t*i*f*u*l\n"
          ]
        }
      ]
    },
    {
      "cell_type": "code",
      "source": [
        "mylist=\"                  nature is beautiful\"\n",
        "x=mylist.ljust(50)\n",
        "print(x,\"is beautiful\")                               #ljust"
      ],
      "metadata": {
        "colab": {
          "base_uri": "https://localhost:8080/"
        },
        "id": "QCLQ49aksYNJ",
        "outputId": "5a5e1ba4-0f0b-45a3-eef5-d348a0ef83c4"
      },
      "execution_count": null,
      "outputs": [
        {
          "output_type": "stream",
          "name": "stdout",
          "text": [
            "                  nature is beautiful              is beautiful\n"
          ]
        }
      ]
    },
    {
      "cell_type": "code",
      "source": [
        "mylist=\"NATURE IS BEAUTIFUL\"\n",
        "x=mylist.lower()\n",
        "print(x)                                  #lower"
      ],
      "metadata": {
        "colab": {
          "base_uri": "https://localhost:8080/"
        },
        "id": "ZQWRllDRsYQT",
        "outputId": "9cd5eedd-3de8-41ad-f8c6-3ff2f366e19b"
      },
      "execution_count": null,
      "outputs": [
        {
          "output_type": "stream",
          "name": "stdout",
          "text": [
            "nature is beautiful\n"
          ]
        }
      ]
    },
    {
      "cell_type": "code",
      "source": [
        "mylist=\"nature is beautiful\"\n",
        "x=mylist.lstrip()\n",
        "print(\"is beautiful\",x)                               #lstrip"
      ],
      "metadata": {
        "colab": {
          "base_uri": "https://localhost:8080/"
        },
        "id": "DxrZF9e6sYTw",
        "outputId": "108cd56a-0833-417c-8946-0c8238a74324"
      },
      "execution_count": null,
      "outputs": [
        {
          "output_type": "stream",
          "name": "stdout",
          "text": [
            "is beautiful nature is beautiful\n"
          ]
        }
      ]
    },
    {
      "cell_type": "code",
      "source": [
        "mylist=\"nature is beautiful\"\n",
        "x=mylist.partition(\"is\")\n",
        "print(x)                                  #partition"
      ],
      "metadata": {
        "colab": {
          "base_uri": "https://localhost:8080/"
        },
        "id": "89qjJy-1sYXH",
        "outputId": "058ed87f-2f24-4d93-d188-4bcf632ea880"
      },
      "execution_count": null,
      "outputs": [
        {
          "output_type": "stream",
          "name": "stdout",
          "text": [
            "('nature ', 'is', ' beautiful')\n"
          ]
        }
      ]
    },
    {
      "cell_type": "code",
      "source": [
        "mylist=\"nature is beautiful\"\n",
        "x=mylist.replace(\"is\",\"was\")\n",
        "print(x)                                  #replace"
      ],
      "metadata": {
        "colab": {
          "base_uri": "https://localhost:8080/"
        },
        "id": "BERFzbaWsYaZ",
        "outputId": "8e0d250b-4f5d-4a86-9f8a-b645fd723e8e"
      },
      "execution_count": null,
      "outputs": [
        {
          "output_type": "stream",
          "name": "stdout",
          "text": [
            "nature was beautiful\n"
          ]
        }
      ]
    },
    {
      "cell_type": "code",
      "source": [
        "mylist=\"nature is beautiful\"\n",
        "x=mylist.rfind(\"l\")\n",
        "print(x)                                  #rfind"
      ],
      "metadata": {
        "colab": {
          "base_uri": "https://localhost:8080/"
        },
        "id": "O6jS5o25sYdc",
        "outputId": "dcceec09-0d51-47f0-f1cd-cdf47e8ab3e5"
      },
      "execution_count": null,
      "outputs": [
        {
          "output_type": "stream",
          "name": "stdout",
          "text": [
            "18\n"
          ]
        }
      ]
    },
    {
      "cell_type": "code",
      "source": [
        "mylist=\"nature is beautiful\"\n",
        "x=mylist.rindex(\"e\")\n",
        "print(x)                                  #rindex"
      ],
      "metadata": {
        "colab": {
          "base_uri": "https://localhost:8080/"
        },
        "id": "GQGi46nMsYg1",
        "outputId": "a3fad860-21f1-43c5-df33-57350cc4de9c"
      },
      "execution_count": null,
      "outputs": [
        {
          "output_type": "stream",
          "name": "stdout",
          "text": [
            "11\n"
          ]
        }
      ]
    },
    {
      "cell_type": "code",
      "source": [
        "mylist=\"nature is beautiful\"\n",
        "x=mylist.rjust(50)\n",
        "print(x,\"is beautiful\")                               #rjust"
      ],
      "metadata": {
        "colab": {
          "base_uri": "https://localhost:8080/"
        },
        "id": "eoZU4RGNtCa5",
        "outputId": "5c46f050-97e1-427e-8ed7-33678b7fc491"
      },
      "execution_count": null,
      "outputs": [
        {
          "output_type": "stream",
          "name": "stdout",
          "text": [
            "                               nature is beautiful is beautiful\n"
          ]
        }
      ]
    },
    {
      "cell_type": "code",
      "source": [
        "mylist=\"nature is beautiful\"\n",
        "x=mylist.rpartition(\"beautiful\")\n",
        "print(x)                                  #rpartition"
      ],
      "metadata": {
        "colab": {
          "base_uri": "https://localhost:8080/"
        },
        "id": "QABYvhkxtCeR",
        "outputId": "0450b00b-7366-47a6-8c47-6b90449a8952"
      },
      "execution_count": null,
      "outputs": [
        {
          "output_type": "stream",
          "name": "stdout",
          "text": [
            "('nature is ', 'beautiful', '')\n"
          ]
        }
      ]
    },
    {
      "cell_type": "code",
      "source": [
        "mylist=\"nature is beautiful\"\n",
        "x=mylist.rsplit()\n",
        "print(x)                                  #rsplit"
      ],
      "metadata": {
        "colab": {
          "base_uri": "https://localhost:8080/"
        },
        "id": "QjDzxK_ktChn",
        "outputId": "d3ed97fb-7e95-429f-93f0-d7e2ddb7f174"
      },
      "execution_count": null,
      "outputs": [
        {
          "output_type": "stream",
          "name": "stdout",
          "text": [
            "['nature', 'is', 'beautiful']\n"
          ]
        }
      ]
    },
    {
      "cell_type": "code",
      "source": [
        "mylist=\"nature is beautiful\"\n",
        "x=mylist.rstrip()\n",
        "print(\"is beautiful\",x)                               #rstrip"
      ],
      "metadata": {
        "colab": {
          "base_uri": "https://localhost:8080/"
        },
        "id": "hPbZZfvktCkw",
        "outputId": "a93a2de9-b699-4a7b-8f18-4ccc585b2dbe"
      },
      "execution_count": null,
      "outputs": [
        {
          "output_type": "stream",
          "name": "stdout",
          "text": [
            "is beautiful nature is beautiful\n"
          ]
        }
      ]
    },
    {
      "cell_type": "code",
      "source": [
        "mylist=\"nature is beautiful\"\n",
        "x=mylist.split()\n",
        "print(x)                                  #split"
      ],
      "metadata": {
        "colab": {
          "base_uri": "https://localhost:8080/"
        },
        "id": "LOHJvhbvtCn7",
        "outputId": "10ac23ef-3384-4c41-c459-f72f9ee6828e"
      },
      "execution_count": null,
      "outputs": [
        {
          "output_type": "stream",
          "name": "stdout",
          "text": [
            "['nature', 'is', 'beautiful']\n"
          ]
        }
      ]
    },
    {
      "cell_type": "code",
      "source": [
        "mylist=\"nature is beautiful\"\n",
        "x=mylist.splitlines()\n",
        "print(x)                                  #splitlines"
      ],
      "metadata": {
        "colab": {
          "base_uri": "https://localhost:8080/"
        },
        "id": "zTV0kuKetCrf",
        "outputId": "7f7bc7f9-cd9e-49a7-8aa0-2132ae1ec067"
      },
      "execution_count": null,
      "outputs": [
        {
          "output_type": "stream",
          "name": "stdout",
          "text": [
            "['nature is beautiful']\n"
          ]
        }
      ]
    },
    {
      "cell_type": "code",
      "source": [
        "mylist=\"nature is beautiful\"\n",
        "x=mylist.startswith(\"n\")\n",
        "print(x)                                  #startswith"
      ],
      "metadata": {
        "colab": {
          "base_uri": "https://localhost:8080/"
        },
        "id": "R3IqWWLgsYj_",
        "outputId": "b39c7af4-9da8-4a9d-b22a-23d59266a437"
      },
      "execution_count": null,
      "outputs": [
        {
          "output_type": "stream",
          "name": "stdout",
          "text": [
            "True\n"
          ]
        }
      ]
    },
    {
      "cell_type": "code",
      "source": [
        "mylist=\"nature is beautiful\"\n",
        "x=mylist.strip()\n",
        "print(\"is beautiful\",x)                               #strip"
      ],
      "metadata": {
        "colab": {
          "base_uri": "https://localhost:8080/"
        },
        "id": "G1UpZzAkteHo",
        "outputId": "9407d9ee-882b-4b13-906a-7862b9fd9181"
      },
      "execution_count": null,
      "outputs": [
        {
          "output_type": "stream",
          "name": "stdout",
          "text": [
            "is beautiful nature is beautiful\n"
          ]
        }
      ]
    },
    {
      "cell_type": "code",
      "source": [
        "mylist=\"NATURE is beautiful\"\n",
        "x=mylist.swapcase()\n",
        "print(x)                                  #swapcase"
      ],
      "metadata": {
        "colab": {
          "base_uri": "https://localhost:8080/"
        },
        "id": "oS9YHP2NteKx",
        "outputId": "0c96389a-0a6b-4e8b-b26e-dc4277be5ec0"
      },
      "execution_count": null,
      "outputs": [
        {
          "output_type": "stream",
          "name": "stdout",
          "text": [
            "nature IS BEAUTIFUL\n"
          ]
        }
      ]
    },
    {
      "cell_type": "code",
      "source": [
        "mylist=\"nature is beautiful\"\n",
        "x=mylist.title()\n",
        "print(x)                                  #title"
      ],
      "metadata": {
        "colab": {
          "base_uri": "https://localhost:8080/"
        },
        "id": "x8VIzWMateN5",
        "outputId": "d536759c-c2ba-4cdc-e9a4-f9b3da29b04a"
      },
      "execution_count": null,
      "outputs": [
        {
          "output_type": "stream",
          "name": "stdout",
          "text": [
            "Nature Is Beautiful\n"
          ]
        }
      ]
    },
    {
      "cell_type": "code",
      "source": [
        "mylist=\"nature is beautiful\"\n",
        "x=mylist.upper()\n",
        "print(x)                                  #upper"
      ],
      "metadata": {
        "colab": {
          "base_uri": "https://localhost:8080/"
        },
        "id": "p_69SP7yteQ0",
        "outputId": "b51529b2-4cb1-48f8-9244-905200be2918"
      },
      "execution_count": null,
      "outputs": [
        {
          "output_type": "stream",
          "name": "stdout",
          "text": [
            "NATURE IS BEAUTIFUL\n"
          ]
        }
      ]
    },
    {
      "cell_type": "code",
      "source": [
        "mylist=\"nature is beautiful\"\n",
        "x=mylist.zfill(50)\n",
        "print(x)                                  #zfill"
      ],
      "metadata": {
        "colab": {
          "base_uri": "https://localhost:8080/"
        },
        "id": "jBPyMI-zteT9",
        "outputId": "f96a251b-e3b8-4bef-9d7f-65bfc3906ca4"
      },
      "execution_count": null,
      "outputs": [
        {
          "output_type": "stream",
          "name": "stdout",
          "text": [
            "0000000000000000000000000000000nature is beautiful\n"
          ]
        }
      ]
    }
  ]
}