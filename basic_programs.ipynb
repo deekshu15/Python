{
  "nbformat": 4,
  "nbformat_minor": 0,
  "metadata": {
    "colab": {
      "provenance": [],
      "authorship_tag": "ABX9TyPyxy3O+rTU93gMmywfhNcy",
      "include_colab_link": true
    },
    "kernelspec": {
      "name": "python3",
      "display_name": "Python 3"
    },
    "language_info": {
      "name": "python"
    }
  },
  "cells": [
    {
      "cell_type": "markdown",
      "metadata": {
        "id": "view-in-github",
        "colab_type": "text"
      },
      "source": [
        "<a href=\"https://colab.research.google.com/github/deekshu15/Python/blob/main/basic_programs.ipynb\" target=\"_parent\"><img src=\"https://colab.research.google.com/assets/colab-badge.svg\" alt=\"Open In Colab\"/></a>"
      ]
    },
    {
      "cell_type": "code",
      "execution_count": 4,
      "metadata": {
        "colab": {
          "base_uri": "https://localhost:8080/"
        },
        "id": "85d23nRl6GxG",
        "outputId": "63f52728-fbaa-43be-d147-6cf2cb5a0f88"
      },
      "outputs": [
        {
          "output_type": "stream",
          "name": "stdout",
          "text": [
            "1876.0\n"
          ]
        }
      ],
      "source": [
        "h=67\n",
        "b=56\n",
        "area=0.5*h*b                                                        #area of triangle\n",
        "print(area)"
      ]
    },
    {
      "cell_type": "code",
      "source": [
        "l=45\n",
        "b=56                                                                #area of rect\n",
        "area=l*b\n",
        "print(area)"
      ],
      "metadata": {
        "colab": {
          "base_uri": "https://localhost:8080/"
        },
        "id": "81ftr-U86R6v",
        "outputId": "15c68962-7257-4f55-db3b-7af9bd73a1a0"
      },
      "execution_count": 3,
      "outputs": [
        {
          "output_type": "stream",
          "name": "stdout",
          "text": [
            "2520\n"
          ]
        }
      ]
    },
    {
      "cell_type": "code",
      "source": [
        "radius=23.5\n",
        "pi=3.14                                                             #area for circle\n",
        "area=pi*radius*radius\n",
        "print(area)"
      ],
      "metadata": {
        "colab": {
          "base_uri": "https://localhost:8080/"
        },
        "id": "QBwIfrhn6eix",
        "outputId": "c1463325-2545-41bd-dc7c-832ac92b6b10"
      },
      "execution_count": 1,
      "outputs": [
        {
          "output_type": "stream",
          "name": "stdout",
          "text": [
            "1734.065\n"
          ]
        }
      ]
    },
    {
      "cell_type": "code",
      "source": [
        "a=34.5\n",
        "area=a*a\n",
        "perimeter=4*a                                                       #area and perimeter of square\n",
        "print(area)\n",
        "print(perimeter)"
      ],
      "metadata": {
        "colab": {
          "base_uri": "https://localhost:8080/"
        },
        "id": "y9lO5_CM7GMs",
        "outputId": "91d04886-edaf-4f16-86a9-6ce353502888"
      },
      "execution_count": 2,
      "outputs": [
        {
          "output_type": "stream",
          "name": "stdout",
          "text": [
            "1190.25\n",
            "138.0\n"
          ]
        }
      ]
    },
    {
      "cell_type": "code",
      "source": [
        "a=int(input())\n",
        "print(\"even\",a%2==0)                                                #even numbers without using loops\n",
        "print(\"odd\",a%2!=0)"
      ],
      "metadata": {
        "colab": {
          "base_uri": "https://localhost:8080/"
        },
        "id": "EVeTzL_D6Rx9",
        "outputId": "1282e7df-f17f-42e1-9a14-816fdda58060"
      },
      "execution_count": 5,
      "outputs": [
        {
          "output_type": "stream",
          "name": "stdout",
          "text": [
            "43\n",
            "even False\n",
            "odd True\n"
          ]
        }
      ]
    },
    {
      "cell_type": "code",
      "source": [
        "a=int(input())\n",
        "print(\"eligibe for voting\",a>=18)\n",
        "print(\"not elibile for voting\",a<18)                                #voting code without loops"
      ],
      "metadata": {
        "colab": {
          "base_uri": "https://localhost:8080/"
        },
        "id": "0cR3Mrwz6SLQ",
        "outputId": "15bde439-1b59-445f-8570-f6d0088b43cf"
      },
      "execution_count": 6,
      "outputs": [
        {
          "output_type": "stream",
          "name": "stdout",
          "text": [
            "20\n",
            "eligibe for voting True\n",
            "not elibile for voting False\n"
          ]
        }
      ]
    },
    {
      "cell_type": "code",
      "source": [
        "a=int(input())                                                      #even numbers without loops\n",
        "result=[\"even\",\"odd\"][a%2]\n",
        "print(\"the number is:\",result)"
      ],
      "metadata": {
        "colab": {
          "base_uri": "https://localhost:8080/"
        },
        "id": "ItxmFQZ96SS-",
        "outputId": "9c310ca5-e4f4-4b2d-f6ab-5e3a7ef6d0fe"
      },
      "execution_count": 7,
      "outputs": [
        {
          "output_type": "stream",
          "name": "stdout",
          "text": [
            "56\n",
            "the number is: even\n"
          ]
        }
      ]
    },
    {
      "cell_type": "code",
      "source": [
        "a=int(input(\"Enter first num:\"))\n",
        "b=int(input(\"Enter second num:\"))\n",
        "\n",
        "txt1=(a>0) and (b%2==0)\n",
        "txt2=(a<0) and (b%2!=0)\n",
        "print(txt1 and \"chinnu and pandu\" or txt2 and \"chinnu\" or \"pandu\")"
      ],
      "metadata": {
        "colab": {
          "base_uri": "https://localhost:8080/"
        },
        "id": "ccRdmrHu6eXX",
        "outputId": "2d2377cd-3747-4696-d16d-ff819d1d58a6"
      },
      "execution_count": 8,
      "outputs": [
        {
          "output_type": "stream",
          "name": "stdout",
          "text": [
            "Enter first num:11\n",
            "Enter second num:10\n",
            "chinnu and pandu\n"
          ]
        }
      ]
    }
  ]
}