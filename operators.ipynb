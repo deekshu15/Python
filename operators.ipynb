{
  "nbformat": 4,
  "nbformat_minor": 0,
  "metadata": {
    "colab": {
      "provenance": [],
      "toc_visible": true,
      "authorship_tag": "ABX9TyM41N4tcJQnxRFf+fbZ3LH9",
      "include_colab_link": true
    },
    "kernelspec": {
      "name": "python3",
      "display_name": "Python 3"
    },
    "language_info": {
      "name": "python"
    }
  },
  "cells": [
    {
      "cell_type": "markdown",
      "metadata": {
        "id": "view-in-github",
        "colab_type": "text"
      },
      "source": [
        "<a href=\"https://colab.research.google.com/github/deekshu15/Python/blob/main/operators.ipynb\" target=\"_parent\"><img src=\"https://colab.research.google.com/assets/colab-badge.svg\" alt=\"Open In Colab\"/></a>"
      ]
    },
    {
      "cell_type": "markdown",
      "source": [
        "# *arthemetic operator*"
      ],
      "metadata": {
        "id": "6NUHzN2cbgmA"
      }
    },
    {
      "cell_type": "code",
      "execution_count": null,
      "metadata": {
        "id": "_poNqzZGba_f",
        "colab": {
          "base_uri": "https://localhost:8080/"
        },
        "outputId": "d9258168-64a7-46bc-9d27-bff8c6ca5ceb"
      },
      "outputs": [
        {
          "output_type": "stream",
          "name": "stdout",
          "text": [
            "Enter a number:45\n",
            "Enter a number:56\n",
            "101\n",
            "-11\n",
            "2520\n",
            "0.8035714285714286\n",
            "45\n",
            "0\n",
            "380102539714517509119234755043630811768952009743379517880956797171165817417204380035400390625\n"
          ]
        }
      ],
      "source": [
        "a=int(input(\"Enter a number:\"))\n",
        "b=int(input(\"Enter a number:\"))\n",
        "print(a+b)\n",
        "print(a-b)\n",
        "print(a*b)\n",
        "print(a/b)\n",
        "print(a%b)\n",
        "print(a//b)\n",
        "print(a**b)"
      ]
    },
    {
      "cell_type": "markdown",
      "source": [
        "#*Comparision Operator*"
      ],
      "metadata": {
        "id": "NlVKEBxYfxqt"
      }
    },
    {
      "cell_type": "code",
      "source": [
        "a=int(input(\"Enter a number:\"))\n",
        "b=int(input(\"Enter a number:\"))\n",
        "print(a==b)\n",
        "print(a!=b)\n",
        "print(a>b)\n",
        "print(a<b)\n",
        "print(a>=b)\n",
        "print(a<=b)"
      ],
      "metadata": {
        "colab": {
          "base_uri": "https://localhost:8080/"
        },
        "id": "58TVTY11gAM6",
        "outputId": "a3f8622b-bf86-499b-b171-c8cfc2527771"
      },
      "execution_count": null,
      "outputs": [
        {
          "output_type": "stream",
          "name": "stdout",
          "text": [
            "Enter a number:34\n",
            "Enter a number:23\n",
            "False\n",
            "True\n",
            "True\n",
            "False\n",
            "True\n",
            "False\n"
          ]
        }
      ]
    },
    {
      "cell_type": "markdown",
      "source": [
        "#*Assignment Operator*"
      ],
      "metadata": {
        "id": "ccdOaZS5hURE"
      }
    },
    {
      "cell_type": "code",
      "source": [
        "a=int(input())\n",
        "b=int(input())\n",
        "print(\"a+=b:\",a+b)\n",
        "print(\"a-=b:\",a-b)\n",
        "print(\"a*=b:\",a*b)\n",
        "print(\"a/=b:\",a/b)\n",
        "print(\"a%=b:\",a%b)\n",
        "print(\"a//=b:\",a//b)"
      ],
      "metadata": {
        "colab": {
          "base_uri": "https://localhost:8080/"
        },
        "id": "Hpa5rKKpTbtL",
        "outputId": "57016115-a8bd-4d2a-8f3a-f45fe72152f8"
      },
      "execution_count": null,
      "outputs": [
        {
          "output_type": "stream",
          "name": "stdout",
          "text": [
            "23\n",
            "13\n",
            "a+=b: 36\n",
            "a-=b: 10\n",
            "a*=b: 299\n",
            "a/=b: 1.7692307692307692\n",
            "a%=b: 10\n",
            "a//=b: 1\n"
          ]
        }
      ]
    },
    {
      "cell_type": "markdown",
      "source": [
        "#*Bitwise Operator*"
      ],
      "metadata": {
        "id": "VDq9r8RsUL_O"
      }
    },
    {
      "cell_type": "code",
      "source": [
        "a=int(input())\n",
        "b=int(input())\n",
        "print(\"a&b:\",a&b)\n",
        "print(\"a^b:\",a^b)\n",
        "print(\"a|b:\",a|b)\n",
        "print(\"~a:\",~a)\n",
        "print(\"a<<b:\",a<<b)\n",
        "print(\"a>>b:\",a>>b)"
      ],
      "metadata": {
        "colab": {
          "base_uri": "https://localhost:8080/"
        },
        "id": "lqmkYeKcUWAc",
        "outputId": "e3491a57-663f-447e-a1a0-7b16b471d7b8"
      },
      "execution_count": null,
      "outputs": [
        {
          "output_type": "stream",
          "name": "stdout",
          "text": [
            "4\n",
            "5\n",
            "a&b: 4\n",
            "a^b: 1\n",
            "a|b: 5\n",
            "~a: -5\n",
            "a<<b: 128\n",
            "a>>b: 0\n"
          ]
        }
      ]
    },
    {
      "cell_type": "markdown",
      "source": [
        "#*Logical Operators*"
      ],
      "metadata": {
        "id": "aepgUqHbVhBp"
      }
    },
    {
      "cell_type": "code",
      "source": [
        "a=7\n",
        "print(\"a > 5 and a < 7\", a > 5 and a < 7)\n",
        "print(\"a > 5 or a < 7\", a > 5 or a < 7)\n",
        "print(\"not (a > 5 and a < 7)\", not(a > 5 and a < 7))"
      ],
      "metadata": {
        "colab": {
          "base_uri": "https://localhost:8080/"
        },
        "id": "gw5L8a9OVn_i",
        "outputId": "e1f65ebc-31b6-4e65-a017-08466bae7501"
      },
      "execution_count": null,
      "outputs": [
        {
          "output_type": "stream",
          "name": "stdout",
          "text": [
            "a > 5 and a < 7 False\n",
            "a > 5 or a < 7 True\n",
            "not (a > 5 and a < 7) True\n"
          ]
        }
      ]
    },
    {
      "cell_type": "markdown",
      "source": [
        "#*Membership Operator*"
      ],
      "metadata": {
        "id": "4KnOPGV3WUnz"
      }
    },
    {
      "cell_type": "code",
      "source": [
        "myList = [12, 22, 28, 35, 42, 49, 54, 65, 92, 103, 245, 874]\n",
        "x = 31\n",
        "y = 28\n",
        "print(\"Given List:\", myList)\n",
        "if (x not in myList):\n",
        "    print(\"x =\", x,\"is NOT present in the given list.\")\n",
        "else:\n",
        "    print(\"x =\", x,\"is present in the given list.\")\n",
        "\n",
        "if (y in myList):\n",
        "    print(\"y =\", y,\"is present in the given list.\")\n",
        "else:\n",
        "    print(\"y =\", y,\"is NOT present in the given list.\")"
      ],
      "metadata": {
        "colab": {
          "base_uri": "https://localhost:8080/"
        },
        "id": "u_-QnF8XWdGL",
        "outputId": "145f31c4-46e5-49d2-ab5a-fe3388bdc8f6"
      },
      "execution_count": null,
      "outputs": [
        {
          "output_type": "stream",
          "name": "stdout",
          "text": [
            "Given List: [12, 22, 28, 35, 42, 49, 54, 65, 92, 103, 245, 874]\n",
            "x = 31 is NOT present in the given list.\n",
            "y = 28 is present in the given list.\n"
          ]
        }
      ]
    },
    {
      "cell_type": "markdown",
      "source": [
        "#*Identity Operator*"
      ],
      "metadata": {
        "id": "T__fjMFqW4OU"
      }
    },
    {
      "cell_type": "code",
      "source": [
        "a = [\"lilly\", \"rose\"]\n",
        "b = [\"lilly\", \"rose\"]\n",
        "c = a\n",
        "print(\"a is c => \", a is c)\n",
        "print(\"a is not c => \", a is not c)\n",
        "print(\"a is b => \", a is b)\n",
        "print(\"a is not b => \", a is not b)\n",
        "print(\"a == b => \", a == b)\n",
        "print(\"a != b => \", a != b)\n"
      ],
      "metadata": {
        "colab": {
          "base_uri": "https://localhost:8080/"
        },
        "id": "6beVOuKfXD4T",
        "outputId": "fb9603f5-6e33-4a8f-c820-a44df1c21b3d"
      },
      "execution_count": null,
      "outputs": [
        {
          "output_type": "stream",
          "name": "stdout",
          "text": [
            "a is c =>  True\n",
            "a is not c =>  False\n",
            "a is b =>  False\n",
            "a is not b =>  True\n",
            "a == b =>  True\n",
            "a != b =>  False\n"
          ]
        }
      ]
    }
  ]
}