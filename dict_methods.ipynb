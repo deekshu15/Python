{
  "nbformat": 4,
  "nbformat_minor": 0,
  "metadata": {
    "colab": {
      "provenance": [],
      "authorship_tag": "ABX9TyNMgC8HipjnsC2phA1CSGf4",
      "include_colab_link": true
    },
    "kernelspec": {
      "name": "python3",
      "display_name": "Python 3"
    },
    "language_info": {
      "name": "python"
    }
  },
  "cells": [
    {
      "cell_type": "markdown",
      "metadata": {
        "id": "view-in-github",
        "colab_type": "text"
      },
      "source": [
        "<a href=\"https://colab.research.google.com/github/deekshu15/Python/blob/main/dict_methods.ipynb\" target=\"_parent\"><img src=\"https://colab.research.google.com/assets/colab-badge.svg\" alt=\"Open In Colab\"/></a>"
      ]
    },
    {
      "cell_type": "code",
      "execution_count": null,
      "metadata": {
        "colab": {
          "base_uri": "https://localhost:8080/"
        },
        "id": "gCPMKo3AwHll",
        "outputId": "1a3f4dbf-3a47-4a29-a117-aefc9b527e25"
      },
      "outputs": [
        {
          "output_type": "stream",
          "name": "stdout",
          "text": [
            "Given Dictionary: {'name': 'Sachin', 'age': 22}\n",
            "Sachin\n",
            "Not Found\n"
          ]
        }
      ],
      "source": [
        "dict1 = {'name': 'Sachin', 'age': 22}\n",
        "print(\"Given Dictionary:\", dict1)\n",
        "print(dict1.get('name', 'Not Found'))\n",
        "print(dict1.get('salary', 'Not Found'))                                  #get method"
      ]
    },
    {
      "cell_type": "code",
      "source": [
        "dict1 = {'name': 'Sachin', 'age': 22}\n",
        "dict2 = {'salary': 69000, 'profession': 'software engineer'}\n",
        "print(\"Given Dictionary:\", dict1)\n",
        "dict1.update(dict2)\n",
        "print(\"Updated Dictionary:\", dict1)                                     #update method"
      ],
      "metadata": {
        "colab": {
          "base_uri": "https://localhost:8080/"
        },
        "id": "fqb8JvyrxT7-",
        "outputId": "db7dd6e3-32b2-4573-8e8c-51a2cad6d5c9"
      },
      "execution_count": null,
      "outputs": [
        {
          "output_type": "stream",
          "name": "stdout",
          "text": [
            "Given Dictionary: {'name': 'Sachin', 'age': 22}\n",
            "Updated Dictionary: {'name': 'Sachin', 'age': 22, 'salary': 69000, 'profession': 'software engineer'}\n"
          ]
        }
      ]
    },
    {
      "cell_type": "code",
      "source": [
        "dict1 = {'name': 'Sachin', 'age': 22}\n",
        "new_dict = dict1.copy()\n",
        "print(\"New Dictionary:\", new_dict)                                      #copy method"
      ],
      "metadata": {
        "colab": {
          "base_uri": "https://localhost:8080/"
        },
        "id": "P3qNL9jeyAsX",
        "outputId": "44a87abe-be3b-4bd0-8630-d37112a66a8a"
      },
      "execution_count": null,
      "outputs": [
        {
          "output_type": "stream",
          "name": "stdout",
          "text": [
            "New Dictionary: {'name': 'Sachin', 'age': 22}\n"
          ]
        }
      ]
    },
    {
      "cell_type": "code",
      "source": [
        "dict_one = {'name': 'Sachin', 'age': 22}\n",
        "age = dict_one.pop('age')\n",
        "print(\"Popped Value:\", age)\n",
        "print(\"Updated Dictionary:\", dict_one)                                  #pop method"
      ],
      "metadata": {
        "id": "56TiQwazyAvu",
        "colab": {
          "base_uri": "https://localhost:8080/"
        },
        "outputId": "5448e9e4-e938-40a6-b358-435f926df814"
      },
      "execution_count": null,
      "outputs": [
        {
          "output_type": "stream",
          "name": "stdout",
          "text": [
            "Popped Value: 22\n",
            "Updated Dictionary: {'name': 'Sachin'}\n"
          ]
        }
      ]
    },
    {
      "cell_type": "code",
      "source": [
        "dict_one = {'name': 'Sachin', 'age': 22}\n",
        "popped_item = dict_one.popitem()\n",
        "\n",
        "print(\"Popped Value:\", popped_item)\n",
        "print(\"Updated Dictionary:\", dict_one)                                   #popitem method"
      ],
      "metadata": {
        "colab": {
          "base_uri": "https://localhost:8080/"
        },
        "id": "9JFMW4hmjb3B",
        "outputId": "20d8583e-0f0b-439d-f628-76d02685df43"
      },
      "execution_count": null,
      "outputs": [
        {
          "output_type": "stream",
          "name": "stdout",
          "text": [
            "Popped Value: ('age', 22)\n",
            "Updated Dictionary: {'name': 'Sachin'}\n"
          ]
        }
      ]
    },
    {
      "cell_type": "code",
      "source": [
        "dict_one = {'name': 'Sachin', 'age': 22}\n",
        "dict_one.clear()\n",
        "print(\"Updated Dictionary:\", dict_one)                                   #clear method"
      ],
      "metadata": {
        "colab": {
          "base_uri": "https://localhost:8080/"
        },
        "id": "eeUWXMRLjb6Q",
        "outputId": "afbe5b56-891a-4828-e073-aaf11a8c8ae3"
      },
      "execution_count": null,
      "outputs": [
        {
          "output_type": "stream",
          "name": "stdout",
          "text": [
            "Updated Dictionary: {}\n"
          ]
        }
      ]
    },
    {
      "cell_type": "code",
      "source": [
        "dict_one = {'name': 'Sachin', 'age': 22}\n",
        "print(dict_one.keys())                                                   #keys method"
      ],
      "metadata": {
        "colab": {
          "base_uri": "https://localhost:8080/"
        },
        "id": "a5hZNY_-kVYx",
        "outputId": "cea28a49-73b6-44d1-f148-3bea8034aabd"
      },
      "execution_count": null,
      "outputs": [
        {
          "output_type": "stream",
          "name": "stdout",
          "text": [
            "dict_keys(['name', 'age'])\n"
          ]
        }
      ]
    },
    {
      "cell_type": "code",
      "source": [
        "given_keys = ['first name', 'last name', 'job profile']\n",
        "dict_one = dict.fromkeys(given_keys, 'Unknown')\n",
        "print(\"Created Dictionary:\", dict_one)                                   #fromkeys method"
      ],
      "metadata": {
        "colab": {
          "base_uri": "https://localhost:8080/"
        },
        "id": "xL4RS9HqkVh-",
        "outputId": "1d349014-ace4-4261-fad5-4dc148dcb072"
      },
      "execution_count": null,
      "outputs": [
        {
          "output_type": "stream",
          "name": "stdout",
          "text": [
            "Created Dictionary: {'first name': 'Unknown', 'last name': 'Unknown', 'job profile': 'Unknown'}\n"
          ]
        }
      ]
    },
    {
      "cell_type": "code",
      "source": [
        "dict_one = {'name': 'Sachin', 'age': 22}\n",
        "print(dict_one.items())                                                  #items method"
      ],
      "metadata": {
        "colab": {
          "base_uri": "https://localhost:8080/"
        },
        "id": "lyWHPlTTkutf",
        "outputId": "e7d373b1-afdb-4fd5-9497-9a23b4c83f1a"
      },
      "execution_count": null,
      "outputs": [
        {
          "output_type": "stream",
          "name": "stdout",
          "text": [
            "dict_items([('name', 'Sachin'), ('age', 22)])\n"
          ]
        }
      ]
    },
    {
      "cell_type": "code",
      "source": [
        "dict_one = {'name': 'Sachin', 'age': 22}\n",
        "age = dict_one.setdefault('age', 25)\n",
        "salary = dict_one.setdefault('salary', 69000)\n",
        "print(\"Age:\", age)\n",
        "print(\"Salary:\", salary)\n",
        "print(\"Updated Dictionary:\", dict_one)                                   #setdefault method"
      ],
      "metadata": {
        "colab": {
          "base_uri": "https://localhost:8080/"
        },
        "id": "nuIGx_Izku0s",
        "outputId": "4c859e18-5b4e-4915-f11d-667b2e4a67ec"
      },
      "execution_count": null,
      "outputs": [
        {
          "output_type": "stream",
          "name": "stdout",
          "text": [
            "Age: 22\n",
            "Salary: 69000\n",
            "Updated Dictionary: {'name': 'Sachin', 'age': 22, 'salary': 69000}\n"
          ]
        }
      ]
    },
    {
      "cell_type": "code",
      "source": [
        "dict_one = {'name': 'Sachin', 'age': 22}\n",
        "print(dict_one.values())                                                  #values method"
      ],
      "metadata": {
        "colab": {
          "base_uri": "https://localhost:8080/"
        },
        "id": "GO287uwelBsc",
        "outputId": "227ac39d-fb2a-4cff-b57a-59b396576973"
      },
      "execution_count": null,
      "outputs": [
        {
          "output_type": "stream",
          "name": "stdout",
          "text": [
            "dict_values(['Sachin', 22])\n"
          ]
        }
      ]
    }
  ]
}