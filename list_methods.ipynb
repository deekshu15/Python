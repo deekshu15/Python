{
  "nbformat": 4,
  "nbformat_minor": 0,
  "metadata": {
    "colab": {
      "provenance": [],
      "authorship_tag": "ABX9TyM2wVvLxWMqPYjJnhwDuCZM",
      "include_colab_link": true
    },
    "kernelspec": {
      "name": "python3",
      "display_name": "Python 3"
    },
    "language_info": {
      "name": "python"
    }
  },
  "cells": [
    {
      "cell_type": "markdown",
      "metadata": {
        "id": "view-in-github",
        "colab_type": "text"
      },
      "source": [
        "<a href=\"https://colab.research.google.com/github/deekshu15/Python/blob/main/list_methods.ipynb\" target=\"_parent\"><img src=\"https://colab.research.google.com/assets/colab-badge.svg\" alt=\"Open In Colab\"/></a>"
      ]
    },
    {
      "cell_type": "code",
      "execution_count": null,
      "metadata": {
        "id": "m3Nx4QCR3UbF",
        "colab": {
          "base_uri": "https://localhost:8080/"
        },
        "outputId": "77a21360-e999-4b87-d7f8-0f52b1e2beff"
      },
      "outputs": [
        {
          "output_type": "stream",
          "name": "stdout",
          "text": [
            "['apples', 'banana', 'Cherry', 'orange']\n"
          ]
        }
      ],
      "source": [
        "fruits=[\"apples\",\"banana\",\"Cherry\"]\n",
        "fruits.append(\"orange\")\n",
        "print(fruits)                                               #append method"
      ]
    },
    {
      "cell_type": "code",
      "source": [
        "items=[\"car\",\"bike\",\"cycle\"]\n",
        "items.clear()\n",
        "print(items)                                                #clear method"
      ],
      "metadata": {
        "colab": {
          "base_uri": "https://localhost:8080/"
        },
        "id": "qREz1rv0qeQi",
        "outputId": "1fdf0ed3-366e-4bf7-8147-ba29e34005ba"
      },
      "execution_count": null,
      "outputs": [
        {
          "output_type": "stream",
          "name": "stdout",
          "text": [
            "[]\n"
          ]
        }
      ]
    },
    {
      "cell_type": "code",
      "source": [
        "fruits=[\"apples\",\"banana\",\"Cherry\"]\n",
        "fruits.copy()\n",
        "print(fruits)                                               #copy method"
      ],
      "metadata": {
        "colab": {
          "base_uri": "https://localhost:8080/"
        },
        "id": "N_OYd_hhrfal",
        "outputId": "99fb3cc9-1f9a-4c9e-d873-13152bb825fa"
      },
      "execution_count": null,
      "outputs": [
        {
          "output_type": "stream",
          "name": "stdout",
          "text": [
            "['apples', 'banana', 'Cherry']\n"
          ]
        }
      ]
    },
    {
      "cell_type": "code",
      "source": [
        "fruits=[\"apples\",\"banana\",\"Cherry\",\"apples\"]\n",
        "x=fruits.count(\"apples\")\n",
        "print(x)                                                    #count method"
      ],
      "metadata": {
        "colab": {
          "base_uri": "https://localhost:8080/"
        },
        "id": "xJ3hOW16rxvU",
        "outputId": "18e50ad4-3e5b-4fe4-e44d-738c92020339"
      },
      "execution_count": null,
      "outputs": [
        {
          "output_type": "stream",
          "name": "stdout",
          "text": [
            "2\n"
          ]
        }
      ]
    },
    {
      "cell_type": "code",
      "source": [
        "fruits=[\"apples\",\"banana\",\"Cherry\"]\n",
        "flowers=[\"rose\",\"lily\"]\n",
        "fruits.extend(flowers)\n",
        "print(fruits)                                               #extend method"
      ],
      "metadata": {
        "colab": {
          "base_uri": "https://localhost:8080/"
        },
        "id": "Qz8CBhpSrx85",
        "outputId": "ffa44f73-ff2e-4cec-d205-0b8caa1d7dd4"
      },
      "execution_count": null,
      "outputs": [
        {
          "output_type": "stream",
          "name": "stdout",
          "text": [
            "['apples', 'banana', 'Cherry', 'rose', 'lily']\n"
          ]
        }
      ]
    },
    {
      "cell_type": "code",
      "source": [
        "list=[\"1\",\"2\",\"3\",\"4\"]\n",
        "x=list.index(\"2\")\n",
        "print(x)                                                    #index method"
      ],
      "metadata": {
        "colab": {
          "base_uri": "https://localhost:8080/"
        },
        "id": "WW6-2FACrx_9",
        "outputId": "c55118ec-4c7d-4625-e083-e077ff444cdc"
      },
      "execution_count": null,
      "outputs": [
        {
          "output_type": "stream",
          "name": "stdout",
          "text": [
            "1\n"
          ]
        }
      ]
    },
    {
      "cell_type": "code",
      "source": [
        "mylist=[\"1\",\"2\",\"3\",\"4\"]\n",
        "mylist.insert(5,7)\n",
        "print(mylist)                                               #insert method"
      ],
      "metadata": {
        "colab": {
          "base_uri": "https://localhost:8080/"
        },
        "id": "i1K5RSAEryDZ",
        "outputId": "73d35697-d3c7-4953-841c-fb04f7aef2ed"
      },
      "execution_count": null,
      "outputs": [
        {
          "output_type": "stream",
          "name": "stdout",
          "text": [
            "['1', '2', '3', '4', 7]\n"
          ]
        }
      ]
    },
    {
      "cell_type": "code",
      "source": [
        "mylist=[\"a\",\"b\",\"c\",\"d\"]\n",
        "x=mylist.pop(0)\n",
        "print(x)                                                    #pop method"
      ],
      "metadata": {
        "colab": {
          "base_uri": "https://localhost:8080/"
        },
        "id": "UEi-iG4Gtc3w",
        "outputId": "0b97ef87-3408-4886-9388-9ea3f3a94aaf"
      },
      "execution_count": null,
      "outputs": [
        {
          "output_type": "stream",
          "name": "stdout",
          "text": [
            "a\n"
          ]
        }
      ]
    },
    {
      "cell_type": "code",
      "source": [
        "mylist=[\"a\",\"b\",\"c\",\"d\"]\n",
        "mylist.remove(\"c\")\n",
        "print(mylist)                                              #remove method"
      ],
      "metadata": {
        "colab": {
          "base_uri": "https://localhost:8080/"
        },
        "id": "1_aXpA15uaUB",
        "outputId": "7fe22a0f-55c1-437c-c3da-f47a6541c0b2"
      },
      "execution_count": null,
      "outputs": [
        {
          "output_type": "stream",
          "name": "stdout",
          "text": [
            "['a', 'b', 'd']\n"
          ]
        }
      ]
    },
    {
      "cell_type": "code",
      "source": [
        "mylist=[\"a\",\"b\",\"c\",\"d\"]\n",
        "mylist.reverse()\n",
        "print(mylist)                                              #reverse method"
      ],
      "metadata": {
        "colab": {
          "base_uri": "https://localhost:8080/"
        },
        "id": "7wOPAuFgvMJW",
        "outputId": "e702ebd8-93a1-40a1-96e6-22e024863d79"
      },
      "execution_count": null,
      "outputs": [
        {
          "output_type": "stream",
          "name": "stdout",
          "text": [
            "['d', 'c', 'b', 'a']\n"
          ]
        }
      ]
    },
    {
      "cell_type": "code",
      "source": [
        "mylist=[\"karthik\",\"swathi\",\"deekshu\"]\n",
        "mylist.sort()\n",
        "print(mylist)                                              #sort method"
      ],
      "metadata": {
        "colab": {
          "base_uri": "https://localhost:8080/"
        },
        "id": "cdVsztwGvZDD",
        "outputId": "e53cd197-ac68-4d37-9d5b-34e598ead7f9"
      },
      "execution_count": null,
      "outputs": [
        {
          "output_type": "stream",
          "name": "stdout",
          "text": [
            "['deekshu', 'karthik', 'swathi']\n"
          ]
        }
      ]
    }
  ]
}